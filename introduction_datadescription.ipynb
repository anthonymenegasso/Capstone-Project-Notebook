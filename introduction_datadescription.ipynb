{
 "cells": [
  {
   "cell_type": "markdown",
   "metadata": {},
   "source": [
    "# The Battle of Neighborhoods"
   ]
  },
  {
   "cell_type": "markdown",
   "metadata": {},
   "source": [
    "## Introduction"
   ]
  },
  {
   "cell_type": "markdown",
   "metadata": {},
   "source": [
    " This Project aim to create an analysis of favorables features to open a new branch of an entertainment company \n",
    " in Toronto. To differentiate the best neighborhood I will use 4 mains features, as follow:\n",
    "  1. The median housing price.\n",
    "  2. The crime rates of that particular area.\n",
    "  3. The road connectivity and recreational facilities.\n",
    "  4. Rating of the nearby locations."
   ]
  },
  {
   "cell_type": "markdown",
   "metadata": {},
   "source": [
    "## Data Description"
   ]
  },
  {
   "cell_type": "markdown",
   "metadata": {},
   "source": [
    "To find \"entertainment data\" I will use the Foursquare location. As I will be using the free account the information from Foursquare will includes just the venue names, locations and ratings. To gather infrastructure data I will utilize the Wikepedia page suggested in the past weeks of this course: \n",
    "\n",
    "https://en.wikipedia.org/wiki/List_of_postal_codes_of_Canada:_M "
   ]
  }
 ],
 "metadata": {
  "kernelspec": {
   "display_name": "Python 3",
   "language": "python",
   "name": "python3"
  },
  "language_info": {
   "codemirror_mode": {
    "name": "ipython",
    "version": 3
   },
   "file_extension": ".py",
   "mimetype": "text/x-python",
   "name": "python",
   "nbconvert_exporter": "python",
   "pygments_lexer": "ipython3",
   "version": "3.8.5"
  }
 },
 "nbformat": 4,
 "nbformat_minor": 4
}
